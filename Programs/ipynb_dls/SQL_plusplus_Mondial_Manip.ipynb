{
  "nbformat": 4,
  "nbformat_minor": 0,
  "metadata": {
    "colab": {
      "provenance": []
    },
    "kernelspec": {
      "name": "python3",
      "display_name": "Python 3"
    },
    "language_info": {
      "name": "python"
    }
  },
  "cells": [
    {
      "cell_type": "markdown",
      "source": [
        "SQL++ Queries by Mason Howes -- Manipulates semi-structured data in JSON and uses a NoSQL database system. Queries written over the semi-structured data model implemented in AsterixDB (Apache project on building a DBMS over data stored in JSON or ADM files).\n",
        "\n",
        "Uses Mondial database, a geographical dataset aggregated from multiple sources that can be found [here](https://www.dbis.informatik.uni-goettingen.de/Mondial/).\n",
        "\n",
        "Please note, Google Colab only supports Python code so in its current state this SQL will not run. If you would like to test it out, I suggest copy pasting it into an environment that supports it.\n",
        "\n",
        "**IMPORTANT:** To run this code, you need to have AsterixDB installed and set up on your device. To eliminate hassle these steps will not be provided, but the raw SQL++ queries will be listed down below."
      ],
      "metadata": {
        "id": "bAEs2PZY5uE4"
      }
    },
    {
      "cell_type": "markdown",
      "source": [
        "Retrieves the names of all cities located in Peru, sorted alphabetically."
      ],
      "metadata": {
        "id": "qKEcll9O7Tuq"
      }
    },
    {
      "cell_type": "code",
      "source": [
        "SELECT C.name AS city\n",
        "FROM geo.world  AS X,\n",
        "     X.mondial.country AS Y,\n",
        "     Y.province AS Z,\n",
        "     (CASE  WHEN is_array(Z.city)\n",
        "            THEN Z.city\n",
        "            ELSE [Z.city] END) AS C\n",
        "WHERE Y.name = 'Peru'\n",
        "ORDER BY C.name;"
      ],
      "metadata": {
        "id": "R7VHdwBs6AeQ"
      },
      "execution_count": null,
      "outputs": []
    },
    {
      "cell_type": "markdown",
      "source": [
        "For each country, returns its name, its population, and the number of religions sorted alphabetically by country. Reports 0 religions for countries without religions."
      ],
      "metadata": {
        "id": "9Oc1E2Jg7Y-G"
      }
    },
    {
      "cell_type": "code",
      "source": [
        "SELECT Y.name AS country,\n",
        "       Y.population AS population,\n",
        "       (SELECT COUNT(*) FROM R) AS num_religions\n",
        "FROM geo.world  AS X,\n",
        "     X.mondial.country AS Y\n",
        "     LET R = (CASE WHEN Y.religions IS MISSING\n",
        "                   THEN []\n",
        "                   WHEN is_array(Y.religions)\n",
        "                   THEN Y.religions\n",
        "                   ELSE [Y.religion] END)\n",
        "ORDER BY Y.name;"
      ],
      "metadata": {
        "id": "CNrT864-6z21"
      },
      "execution_count": null,
      "outputs": []
    },
    {
      "cell_type": "markdown",
      "source": [
        "For each religion, returns the number of countries where said religion occurs; order them in decreasing number of countries."
      ],
      "metadata": {
        "id": "jkcgyYyB7eVw"
      }
    },
    {
      "cell_type": "code",
      "source": [
        "SELECT R.religion AS religion,\n",
        "       COUNT(*) AS num_countries\n",
        "FROM (SELECT (SELECT `#text` AS religion\n",
        "              FROM Z) AS country\n",
        "      FROM geo.world AS X,\n",
        "           X.mondial.country AS Y\n",
        "      LET Z = (CASE WHEN Y.religions IS MISSING\n",
        "                    THEN []\n",
        "                    WHEN is_array(Y.religions)\n",
        "                    THEN Y.religions\n",
        "                    ELSE [Y.religions] END)) AS C\n",
        "      UNNEST C.country AS R\n",
        "GROUP BY R.religion\n",
        "ORDER BY COUNT(*) DESC;"
      ],
      "metadata": {
        "id": "IToLBBZs64Ma"
      },
      "execution_count": null,
      "outputs": []
    },
    {
      "cell_type": "markdown",
      "source": [
        "For each ethnic group, returns the number of countries where said ethnic group occurs, as well as the total population world-wide of that group"
      ],
      "metadata": {
        "id": "uCI0gKP17n-t"
      }
    },
    {
      "cell_type": "code",
      "source": [
        "WITH country AS (\n",
        "    SELECT\n",
        "        Y.population AS P,\n",
        "        (\n",
        "            SELECT\n",
        "                eth.`#text` AS N,\n",
        "                eth.`-percentage` AS PCT\n",
        "            FROM Z AS eth\n",
        "        ) AS E\n",
        "    FROM geo.world AS X,\n",
        "         X.mondial.country AS Y\n",
        "    LET Z = (\n",
        "        CASE\n",
        "            WHEN Y.ethnicgroups IS MISSING THEN []\n",
        "            WHEN IS_ARRAY(Y.ethnicgroups) THEN Y.ethnicgroups\n",
        "            ELSE [Y.ethnicgroups]\n",
        "        END\n",
        "    )\n",
        "),\n",
        "arr AS (\n",
        "    SELECT\n",
        "        eth.N AS ethnicities,\n",
        "        CAST(C.P AS FLOAT) * 0.01 * CAST(eth.PCT AS FLOAT) AS product\n",
        "    FROM country AS C\n",
        "    UNNEST C.E AS eth\n",
        ")\n",
        "SELECT\n",
        "    A.ethnicities AS ethnic_group,\n",
        "    COUNT(A.ethnicities) AS num_countries,\n",
        "    SUM(A.product) AS total_population\n",
        "FROM arr AS A\n",
        "GROUP BY A.ethnicities;"
      ],
      "metadata": {
        "id": "wYVT_FcI68bS"
      },
      "execution_count": null,
      "outputs": []
    },
    {
      "cell_type": "markdown",
      "source": [
        "Finds all countries bordering two or more seas. Joins the \"sea\" collection with the \"country\" collection. For each country in the list, returns its code, its name, and the list of bordering seas, in decreasing order of the number of seas"
      ],
      "metadata": {
        "id": "Br09kD9d7yBt"
      }
    },
    {
      "cell_type": "code",
      "source": [
        "WITH cCodes AS\n",
        "    (SELECT A AS code\n",
        "     FROM geo.world AS X,\n",
        "          X.mondial.sea AS Y,\n",
        "          split(Y.`-country`, ' ') AS A\n",
        "     GROUP BY A\n",
        "     HAVING count(*) > 1),\n",
        "\n",
        "sNames AS\n",
        "    (SELECT C.code AS code,\n",
        "            Y.name AS name\n",
        "     FROM cCodes C,\n",
        "          geo.world AS X,\n",
        "          X.mondial.sea AS Y,\n",
        "          split(Y.`-country`, ' ') AS A\n",
        "     WHERE C.code = A),\n",
        "\n",
        "sList AS\n",
        "    (SELECT S.code AS code,\n",
        "        (SELECT s.name\n",
        "        FROM sNames AS s\n",
        "        WHERE s.code = S.code) AS seas\n",
        "     FROM sNames AS S\n",
        "     GROUP BY S.code)\n",
        "\n",
        "SELECT L.code AS country_code,\n",
        "       Y.name AS country_name,\n",
        "       L.seas AS seas\n",
        "FROM sList AS L,\n",
        "     geo.world AS X,\n",
        "     X.mondial.country AS Y\n",
        "WHERE L.code = Y.`-car_code`;"
      ],
      "metadata": {
        "id": "X1mApaVy7LES"
      },
      "execution_count": null,
      "outputs": []
    }
  ]
}