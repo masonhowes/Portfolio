{
  "cells": [
    {
      "cell_type": "markdown",
      "metadata": {
        "id": "YouPGkoyC4zW"
      },
      "source": [
        "SQL Queries by Mason Howes -- Flight dataset manipulation, dataset hosted [here](https://courses.cs.washington.edu/courses/cse414/19au/hw/flight-dataset.zip)"
      ]
    },
    {
      "cell_type": "markdown",
      "metadata": {
        "id": "N398OeriEE57"
      },
      "source": [
        "This SQL code was originally ran with [SQLite 3.](https://www.sqlite.org/)"
      ]
    },
    {
      "cell_type": "markdown",
      "metadata": {
        "id": "x6APQMEUDVv1"
      },
      "source": [
        "Set up:"
      ]
    },
    {
      "cell_type": "code",
      "execution_count": null,
      "metadata": {
        "id": "raQqBx66DKKY"
      },
      "outputs": [],
      "source": [
        "PRAGMA foreign_keys=ON;\n",
        "\n",
        "-- var def\n",
        "CREATE TABLE FLIGHTS (fid int PRIMARY KEY,\n",
        "                month_id int,        -- 1-12\n",
        "                day_of_month int,    -- 1-31\n",
        "                day_of_week_id int,  -- 1-7, 1 = Monday, 2 = Tuesday, etc\n",
        "                carrier_id varchar(7),\n",
        "                flight_num int,\n",
        "                origin_city varchar(34),\n",
        "                origin_state varchar(47),\n",
        "                dest_city varchar(34),\n",
        "                dest_state varchar(46),\n",
        "                departure_delay int, -- in mins\n",
        "                taxi_out int,        -- in mins\n",
        "                arrival_delay int,   -- in mins\n",
        "                canceled int,        -- 1 means canceled\n",
        "                actual_time int,     -- in mins\n",
        "                distance int,        -- in miles\n",
        "                capacity int,\n",
        "                price int,           -- in $\n",
        "                FOREIGN KEY (carrier_id) REFERENCES CARRIERS(cid),\n",
        "                FOREIGN KEY (month_id) REFERENCES MONTHS(mid),\n",
        "                FOREIGN KEY (day_of_week_id) REFERENCES WEEKDAYS(did)\n",
        "                );\n",
        "\n",
        "-- db table creation\n",
        "CREATE TABLE CARRIERS (cid varchar(7), name varchar(83), PRIMARY KEY (cid));\n",
        "CREATE TABLE MONTHS (mid int, month varchar(9), PRIMARY KEY (mid));\n",
        "CREATE TABLE WEEKDAYS (did int, day_of_week varchar(9), PRIMARY KEY (did));\n",
        "\n",
        "-- csv import & styling\n",
        ".mode csv\n",
        ".import flight-dataset\\carriers.csv CARRIERS\n",
        ".import flight-dataset\\months.csv MONTHS\n",
        ".import flight-dataset\\weekdays.csv WEEKDAYS\n",
        ".import flight-dataset\\flights-small.csv FLIGHTS"
      ]
    },
    {
      "cell_type": "markdown",
      "metadata": {
        "id": "lkbATU-uEq06"
      },
      "source": [
        "Lists the distinct flight numbers of all flights from Seattle to Boston by Alaska Airlines Inc. on Mondays:"
      ]
    },
    {
      "cell_type": "code",
      "execution_count": null,
      "metadata": {
        "id": "YSFsex0MEv85"
      },
      "outputs": [],
      "source": [
        "SELECT DISTINCT flight_num AS flight_num\n",
        "FROM FLIGHTS AS f,\n",
        "     CARRIERS AS c,\n",
        "     WEEKDAYS AS w\n",
        "WHERE f.carrier_id = c.cid\n",
        "    AND f.day_of_week_id = w.did\n",
        "    AND f.origin_city = 'Seattle WA'\n",
        "    AND f.dest_city = 'Boston MA'\n",
        "    AND c.name = 'Alaska Airlines Inc.'\n",
        "    AND w.day_of_week = 'Monday';"
      ]
    },
    {
      "cell_type": "markdown",
      "metadata": {
        "id": "3tIJChOFE18j"
      },
      "source": [
        "Finds all itineraries from Seattle to Boston on July 15th:"
      ]
    },
    {
      "cell_type": "code",
      "execution_count": null,
      "metadata": {
        "id": "5gtR_d2NE8ZQ"
      },
      "outputs": [],
      "source": [
        "SELECT c.name AS name,\n",
        "       f1.flight_num AS f1_flight_num,\n",
        "       f1.origin_city AS f1_origin_city,\n",
        "       f1.dest_city AS f1_dest_city,\n",
        "       f1.actual_time AS f1_actual_time,\n",
        "       f2.flight_num AS f2_flight_num,\n",
        "       f2.origin_city AS f2_origin_city,\n",
        "       f2.dest_city AS f2_dest_city,\n",
        "       f2.actual_time AS f2_actual_time,\n",
        "       f1.actual_time + f2.actual_time AS actual_time\n",
        "FROM FLIGHTS AS f1,\n",
        "     FLIGHTS AS f2,\n",
        "     CARRIERS AS c,\n",
        "     MONTHS AS m\n",
        "WHERE f1.origin_city = 'Seattle WA'\n",
        "  AND f2.dest_city = 'Boston MA'\n",
        "  AND f1.dest_city = f2.origin_city\n",
        "  AND f1.month_id = m.mid\n",
        "  AND f2.month_id = m.mid\n",
        "  AND m.month = 'July'\n",
        "  AND f1.day_of_month = 15\n",
        "  AND f2.day_of_month = 15\n",
        "  AND f1.carrier_id = c.cid\n",
        "  AND f2.carrier_id = c.cid\n",
        "  AND f1.carrier_id = f2.carrier_id\n",
        "  AND (f1.actual_time + f2.actual_time) < 420; -- 7hrs conv to min"
      ]
    },
    {
      "cell_type": "markdown",
      "metadata": {
        "id": "qBR_PkZqFFRW"
      },
      "source": [
        "Finds the day of the week with the longest average arrival delay. Returns the name of the day and the average delay:"
      ]
    },
    {
      "cell_type": "code",
      "execution_count": null,
      "metadata": {
        "id": "20m6mA4HFKYL"
      },
      "outputs": [],
      "source": [
        "SELECT w.day_of_week AS day_of_week,\n",
        "       AVG(f.arrival_delay) AS delay\n",
        "FROM FLIGHTS AS f,\n",
        "     WEEKDAYS AS w\n",
        "WHERE f.day_of_week_id = w.did\n",
        "GROUP BY w.day_of_week\n",
        "ORDER BY AVG(f.arrival_delay) DESC\n",
        "LIMIT 1;"
      ]
    },
    {
      "cell_type": "markdown",
      "metadata": {
        "id": "eo5eksxHFOIY"
      },
      "source": [
        "Finds the names of all airlines that ever flew more than 1000 flights in one day (i.e., a specific day/month, but not any 24-hour period):"
      ]
    },
    {
      "cell_type": "code",
      "execution_count": null,
      "metadata": {
        "id": "gB2f7QjPFUCF"
      },
      "outputs": [],
      "source": [
        "SELECT DISTINCT c.name AS name\n",
        "FROM FLIGHTS AS f,\n",
        "     MONTHS as m,\n",
        "     CARRIERS as c\n",
        "WHERE f.day_of_month = m.mid\n",
        "  AND f.carrier_id = c.cid\n",
        "GROUP BY m.month, f.day_of_month, c.name\n",
        "HAVING COUNT(*) > 1000;"
      ]
    },
    {
      "cell_type": "markdown",
      "metadata": {
        "id": "enhPT6QKFYzb"
      },
      "source": [
        "Finds all airlines that had more than 0.5% (= 0.005) of their flights out of Seattle canceled. Returns the name of the airline and the percentage of canceled flights out of Seattle. Results are ordered by the percentage of canceled flights in ascending order:"
      ]
    },
    {
      "cell_type": "code",
      "execution_count": null,
      "metadata": {
        "id": "P8KGHHuzFkHJ"
      },
      "outputs": [],
      "source": [
        "SELECT c.name AS name,\n",
        "       AVG(f.canceled) * 100 AS percentage\n",
        "FROM FLIGHTS AS f,\n",
        "     CARRIERS AS c\n",
        "WHERE f.carrier_id = c.cid\n",
        "  AND f.origin_city = 'Seattle WA'\n",
        "GROUP BY c.name\n",
        "HAVING AVG(f.canceled) > 0.005;"
      ]
    },
    {
      "cell_type": "markdown",
      "metadata": {
        "id": "ud3GwyMgFnuj"
      },
      "source": [
        "Finds the maximum price of tickets between Seattle and New York, NY:"
      ]
    },
    {
      "cell_type": "code",
      "execution_count": null,
      "metadata": {
        "id": "lthGVlt9Fsek"
      },
      "outputs": [],
      "source": [
        "SELECT c.name AS carrier,\n",
        "       MAX(f.price) as max_price\n",
        "FROM FLIGHTS AS f,\n",
        "     CARRIERS AS c\n",
        "WHERE f.carrier_id = c.cid\n",
        "  AND ((f.origin_city = 'Seattle WA' AND f.dest_city = 'New York NY')\n",
        "      OR (f.origin_city = 'New York NY' AND f.dest_city = 'Seattle WA'))\n",
        "GROUP BY c.name;"
      ]
    },
    {
      "cell_type": "markdown",
      "metadata": {
        "id": "bnoPWI4EFwgq"
      },
      "source": [
        "Finds the total capacity of all direct flights that fly between Seattle and San Francisco, CA on July 10th:"
      ]
    },
    {
      "cell_type": "code",
      "execution_count": null,
      "metadata": {
        "id": "SyxMlE2-F04w"
      },
      "outputs": [],
      "source": [
        "SELECT SUM(f.capacity) as capacity -- SUM() = addition, COUNT() = total rows\n",
        "FROM FLIGHTS AS f,\n",
        "     MONTHS AS m\n",
        "WHERE f.month_id = m.mid\n",
        "  AND m.month = 'July'\n",
        "  AND f.day_of_month = 10\n",
        "  AND ((f.origin_city = 'Seattle WA' AND f.dest_city = 'San Francisco CA') -- Seattle -> SF\n",
        "      OR (f.origin_city = 'San Francisco CA' AND f.dest_city = 'Seattle WA'));  -- SF -> Seattle"
      ]
    },
    {
      "cell_type": "markdown",
      "metadata": {
        "id": "GaLFGn0EF5jh"
      },
      "source": [
        "Computes the total departure delay of each airline across all flights:"
      ]
    },
    {
      "cell_type": "code",
      "execution_count": null,
      "metadata": {
        "id": "gvsEJAsjF9IH"
      },
      "outputs": [],
      "source": [
        "SELECT c.name AS name,\n",
        "       SUM(f.departure_delay) AS delay\n",
        "FROM FLIGHTS AS f,\n",
        "     CARRIERS AS c\n",
        "WHERE f.carrier_id = c.cid\n",
        "GROUP BY c.name;"
      ]
    }
  ],
  "metadata": {
    "colab": {
      "provenance": []
    },
    "kernelspec": {
      "display_name": "Python 3",
      "name": "python3"
    },
    "language_info": {
      "name": "python"
    }
  },
  "nbformat": 4,
  "nbformat_minor": 0
}
